{
 "cells": [
  {
   "cell_type": "markdown",
   "id": "432284dc",
   "metadata": {},
   "source": [
    "## Variables"
   ]
  },
  {
   "cell_type": "code",
   "execution_count": 1,
   "id": "2cf72d59",
   "metadata": {},
   "outputs": [],
   "source": [
    "# Number variables\n",
    "integer = 42\n",
    "float_number = 7.5\n",
    "complex_number = 30j\n",
    "\n",
    "# String variables\n",
    "first_name = \"Rasheed\"\n",
    "last_name = \"Lawal\"\n",
    "sex = \"Male\"\n",
    "marital_status = \"Single & ready to mingle\"\n",
    "complexion = \"Light skinned\"\n",
    "occupation = \"Student\"\n",
    "\n",
    "# Boolean variables\n",
    "male = True\n",
    "female = False\n"
   ]
  },
  {
   "cell_type": "markdown",
   "id": "3a3d5043",
   "metadata": {},
   "source": [
    "## Random Numbers"
   ]
  },
  {
   "cell_type": "code",
   "execution_count": 3,
   "id": "98e09e5c",
   "metadata": {},
   "outputs": [
    {
     "name": "stdout",
     "output_type": "stream",
     "text": [
      "Integer number: 86\n",
      "Float number: 6.328307054078142\n",
      "Random float: 0.7901883798420477\n",
      "Random range: 40\n",
      "Gaussian number: -1.0824833646870153\n"
     ]
    }
   ],
   "source": [
    "import random\n",
    "\n",
    "# Generating random numbers and assigning to variables\n",
    "integer_number = random.randint(1, 100)  # Random integer between 1 and 100\n",
    "float_number = random.uniform(0.1, 10.0)  # Random float between 0.1 and 10.0\n",
    "random_float = random.random()  # Random float between 0 and 1\n",
    "random_range = random.randrange(10, 50, 5)  # Random number between 10 and 50, step by 5\n",
    "gaussian_number = random.gauss(0, 1)  # Random float with Gaussian distribution (mean=0, stddev=1)\n",
    "\n",
    "# Displaying the generated random numbers\n",
    "print(f\"Integer number: {integer_number}\")\n",
    "print(f\"Float number: {float_number}\")\n",
    "print(f\"Random float: {random_float}\")\n",
    "print(f\"Random range: {random_range}\")\n",
    "print(f\"Gaussian number: {gaussian_number}\")\n"
   ]
  },
  {
   "cell_type": "code",
   "execution_count": null,
   "id": "f523a6d6",
   "metadata": {},
   "outputs": [],
   "source": []
  }
 ],
 "metadata": {
  "kernelspec": {
   "display_name": "Python 3 (ipykernel)",
   "language": "python",
   "name": "python3"
  },
  "language_info": {
   "codemirror_mode": {
    "name": "ipython",
    "version": 3
   },
   "file_extension": ".py",
   "mimetype": "text/x-python",
   "name": "python",
   "nbconvert_exporter": "python",
   "pygments_lexer": "ipython3",
   "version": "3.11.5"
  }
 },
 "nbformat": 4,
 "nbformat_minor": 5
}
